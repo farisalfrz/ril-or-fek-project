{
 "cells": [
  {
   "cell_type": "code",
   "execution_count": 19,
   "id": "b6259235",
   "metadata": {},
   "outputs": [],
   "source": [
    "import pandas as pd"
   ]
  },
  {
   "cell_type": "code",
   "execution_count": 20,
   "id": "e12de8d0",
   "metadata": {},
   "outputs": [],
   "source": [
    "# Load all dataset\n",
    "df_sumber1 = pd.read_excel('../data/dataset_cnn_cleaned.xlsx')\n",
    "df_sumber2 = pd.read_excel('../data/dataset_detik_cleaned.xlsx')\n",
    "df_sumber3 = pd.read_excel('../data/dataset_kompas_cleaned.xlsx')\n",
    "df_sumber4 = pd.read_excel('../data/dataset_turnbackhoax_cleaned.xlsx')"
   ]
  },
  {
   "cell_type": "code",
   "execution_count": 21,
   "id": "152fc4a0",
   "metadata": {},
   "outputs": [],
   "source": [
    "# Combine all dataset\n",
    "list_df = [df_sumber1, df_sumber2, df_sumber3, df_sumber4]\n",
    "df_master = pd.concat(list_df, ignore_index=True)\n",
    "# Drop duplicates\n",
    "df_master.drop_duplicates(subset=['Clean Narasi'], inplace=True)\n",
    "# Check for null\n",
    "df_master.dropna(inplace=True)"
   ]
  },
  {
   "cell_type": "code",
   "execution_count": 22,
   "id": "11caeeab",
   "metadata": {},
   "outputs": [
    {
     "name": "stdout",
     "output_type": "stream",
     "text": [
      "Total data setelah digabung dan dibersihkan: (24592, 7)\n",
      "hoax\n",
      "0    12645\n",
      "1    11947\n",
      "Name: count, dtype: int64\n"
     ]
    }
   ],
   "source": [
    "# Check result\n",
    "print(\"Total data setelah digabung dan dibersihkan:\", df_master.shape)\n",
    "print(df_master['hoax'].value_counts())"
   ]
  },
  {
   "cell_type": "code",
   "execution_count": 23,
   "id": "6be6b373",
   "metadata": {},
   "outputs": [],
   "source": [
    "# Save dataset final\n",
    "df_master.to_csv('../data/dataset_final.csv', index=False)"
   ]
  }
 ],
 "metadata": {
  "kernelspec": {
   "display_name": "Python 3 (ipykernel)",
   "language": "python",
   "name": "python3"
  },
  "language_info": {
   "codemirror_mode": {
    "name": "ipython",
    "version": 3
   },
   "file_extension": ".py",
   "mimetype": "text/x-python",
   "name": "python",
   "nbconvert_exporter": "python",
   "pygments_lexer": "ipython3",
   "version": "3.10.7"
  }
 },
 "nbformat": 4,
 "nbformat_minor": 5
}
