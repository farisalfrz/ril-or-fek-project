{
 "cells": [
  {
   "cell_type": "code",
   "execution_count": 8,
   "id": "3a025f3c",
   "metadata": {},
   "outputs": [],
   "source": [
    "# Import libraries\n",
    "import pandas as pd\n",
    "from sklearn.model_selection import train_test_split\n",
    "from sklearn.feature_extraction.text import TfidfVectorizer\n",
    "from sklearn.naive_bayes import MultinomialNB\n",
    "from sklearn.metrics import accuracy_score, classification_report, confusion_matrix\n",
    "import seaborn as sns\n",
    "import matplotlib.pyplot as plt"
   ]
  },
  {
   "cell_type": "code",
   "execution_count": 9,
   "id": "6f37d546",
   "metadata": {},
   "outputs": [
    {
     "name": "stdout",
     "output_type": "stream",
     "text": [
      "1. Memuat dataset lengkap...\n",
      "Berhasil! Total 24592 baris data dimuat.\n"
     ]
    }
   ],
   "source": [
    "# Load dataset final\n",
    "print(\"1. Memuat dataset lengkap...\")\n",
    "try:\n",
    "    df = pd.read_csv('../data/dataset_final.csv')\n",
    "    # Menghapus baris dimana kolom 'Teks' kosong, untuk jaga-jaga\n",
    "    df.dropna(subset=['Clean Narasi'], inplace=True)\n",
    "    print(f\"Berhasil! Total {len(df)} baris data dimuat.\")\n",
    "except FileNotFoundError:\n",
    "    print(\"GAGAL! File 'dataset_final.csv' tidak ditemukan. Pastikan file ada di folder 'data/'.\")\n",
    "    exit()"
   ]
  },
  {
   "cell_type": "code",
   "execution_count": 10,
   "id": "199bc9b2",
   "metadata": {},
   "outputs": [
    {
     "name": "stdout",
     "output_type": "stream",
     "text": [
      "\n",
      "2. Membagi data menjadi 80% Latih dan 20% Uji...\n",
      "Berhasil! Ukuran data latih: 19673 baris, Ukuran data uji: 4919 baris.\n"
     ]
    }
   ],
   "source": [
    "# Pembagian data\n",
    "print(\"\\n2. Membagi data menjadi 80% Latih dan 20% Uji...\")\n",
    "\n",
    "# Menentukan variabel fitur (X) dan variabel target (y)\n",
    "X = df['Clean Narasi']\n",
    "y = df['hoax']\n",
    "\n",
    "# Bagi data\n",
    "X_train, X_test, y_train, y_test = train_test_split(\n",
    "    X, \n",
    "    y, \n",
    "    test_size=0.2,    # 20% data untuk pengujian\n",
    "    random_state=42, \n",
    "    stratify=y        \n",
    ")\n",
    "\n",
    "print(f\"Berhasil! Ukuran data latih: {len(X_train)} baris, Ukuran data uji: {len(X_test)} baris.\")"
   ]
  },
  {
   "cell_type": "code",
   "execution_count": 11,
   "id": "e8bdba5e",
   "metadata": {},
   "outputs": [
    {
     "name": "stdout",
     "output_type": "stream",
     "text": [
      "\n",
      "3. Mengubah teks menjadi vektor angka dengan TF-IDF...\n",
      "Teks berhasil diubah menjadi vektor TF-IDF.\n"
     ]
    }
   ],
   "source": [
    "# Ekstraksi fitur TF-IDF\n",
    "print(\"\\n3. Mengubah teks menjadi vektor angka dengan TF-IDF...\")\n",
    "\n",
    "# Inisialisasi TfidfVectorizer\n",
    "tfidf_vectorizer = TfidfVectorizer(max_features=5000) # Ambil 5000 kata\n",
    "\n",
    "X_train_tfidf = tfidf_vectorizer.fit_transform(X_train)\n",
    "\n",
    "X_test_tfidf = tfidf_vectorizer.transform(X_test)\n",
    "\n",
    "print(\"Teks berhasil diubah menjadi vektor TF-IDF.\")"
   ]
  },
  {
   "cell_type": "code",
   "execution_count": 12,
   "id": "64e4a051",
   "metadata": {},
   "outputs": [
    {
     "name": "stdout",
     "output_type": "stream",
     "text": [
      "\n",
      "4. Melatih model Machine Learning (Multinomial Naive Bayes)...\n",
      "Model berhasil dilatih!\n"
     ]
    }
   ],
   "source": [
    "# Melatih model\n",
    "print(\"\\n4. Melatih model Machine Learning (Multinomial Naive Bayes)...\")\n",
    "\n",
    "# Inisialisasi model\n",
    "model = MultinomialNB()\n",
    "\n",
    "# Latih model dengan data latih\n",
    "model.fit(X_train_tfidf, y_train)\n",
    "\n",
    "print(\"Model berhasil dilatih!\")"
   ]
  },
  {
   "cell_type": "code",
   "execution_count": 14,
   "id": "dc305318",
   "metadata": {},
   "outputs": [
    {
     "name": "stdout",
     "output_type": "stream",
     "text": [
      "\n",
      "5. Mengevaluasi performa model pada data uji...\n",
      "\n",
      "Akurasi Model: 95.65%\n",
      "\n",
      "Laporan Klasifikasi:\n",
      "              precision    recall  f1-score   support\n",
      "\n",
      "   Fakta (0)       0.93      0.99      0.96      2529\n",
      "   Hoaks (1)       0.99      0.92      0.95      2390\n",
      "\n",
      "    accuracy                           0.96      4919\n",
      "   macro avg       0.96      0.96      0.96      4919\n",
      "weighted avg       0.96      0.96      0.96      4919\n",
      "\n",
      "\n",
      "Confusion Matrix:\n"
     ]
    },
    {
     "data": {
      "image/png": "[encoded data removed]",
      "text/plain": [
       "<Figure size 800x600 with 2 Axes>"
      ]
     },
     "metadata": {},
     "output_type": "display_data"
    }
   ],
   "source": [
    "# Evaluasi\n",
    "print(\"\\n5. Mengevaluasi performa model pada data uji...\")\n",
    "\n",
    "# Membuat prediksi pada data uji\n",
    "y_pred = model.predict(X_test_tfidf)\n",
    "\n",
    "# Menghitung akurasi\n",
    "accuracy = accuracy_score(y_test, y_pred)\n",
    "print(f\"\\nAkurasi Model: {accuracy * 100:.2f}%\")\n",
    "\n",
    "# Menampilkan Precision, Recall, F1-Score\n",
    "print(\"\\nLaporan Klasifikasi:\")\n",
    "print(classification_report(y_test, y_pred, target_names=['Fakta (0)', 'Hoaks (1)']))\n",
    "\n",
    "# Menampilkan Confusion Matrix \n",
    "print(\"\\nConfusion Matrix:\")\n",
    "cm = confusion_matrix(y_test, y_pred)\n",
    "plt.figure(figsize=(8, 6))\n",
    "sns.heatmap(cm, annot=True, fmt='d', cmap='Blues', \n",
    "            xticklabels=['Prediksi Fakta', 'Prediksi Hoaks'], \n",
    "            yticklabels=['Aktual Fakta', 'Aktual Hoaks'])\n",
    "plt.title('Confusion Matrix')\n",
    "plt.ylabel('Label Aktual')\n",
    "plt.xlabel('Label Prediksi')\n",
    "plt.show()"
   ]
  },
  {
   "cell_type": "code",
   "execution_count": null,
   "id": "643d49fc",
   "metadata": {},
   "outputs": [],
   "source": []
  }
 ],
 "metadata": {
  "kernelspec": {
   "display_name": "Python 3 (ipykernel)",
   "language": "python",
   "name": "python3"
  },
  "language_info": {
   "codemirror_mode": {
    "name": "ipython",
    "version": 3
   },
   "file_extension": ".py",
   "mimetype": "text/x-python",
   "name": "python",
   "nbconvert_exporter": "python",
   "pygments_lexer": "ipython3",
   "version": "3.10.7"
  }
 },
 "nbformat": 4,
 "nbformat_minor": 5
}
